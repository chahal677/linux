{
  "nbformat": 4,
  "nbformat_minor": 0,
  "metadata": {
    "colab": {
      "provenance": [],
      "authorship_tag": "ABX9TyM5t9axcYLEGgJEIebSup6i",
      "include_colab_link": true
    },
    "kernelspec": {
      "name": "python3",
      "display_name": "Python 3"
    },
    "language_info": {
      "name": "python"
    }
  },
  "cells": [
    {
      "cell_type": "markdown",
      "metadata": {
        "id": "view-in-github",
        "colab_type": "text"
      },
      "source": [
        "<a href=\"https://colab.research.google.com/github/chahal677/linux/blob/main/sports_team_management_system.ipynb\" target=\"_parent\"><img src=\"https://colab.research.google.com/assets/colab-badge.svg\" alt=\"Open In Colab\"/></a>"
      ]
    },
    {
      "cell_type": "code",
      "source": [
        "class TeamMember:\n",
        "    def __init__(self, name, position):\n",
        "        self.name = name\n",
        "        self.position = position\n",
        "        self.performance = {}\n",
        "\n",
        "    def add_performance(self, game_date, score):\n",
        "        if game_date in self.performance:\n",
        "            print(\"Warning: Performance for this date already exists. Updating score.\")\n",
        "        self.performance[game_date] = score\n",
        "\n",
        "    def get_performance(self):\n",
        "        return self.performance\n",
        "\n",
        "class Team:\n",
        "    def __init__(self, name):\n",
        "        self.name = name\n",
        "        self.members = []\n",
        "\n",
        "    def add_member(self, member):\n",
        "        self.members.append(member)\n",
        "\n",
        "    def remove_member(self, member_name):\n",
        "        for member in self.members:\n",
        "            if member.name == member_name:\n",
        "                self.members.remove(member)\n",
        "                break\n",
        "\n",
        "    def view_team_performance(self):\n",
        "        for member in self.members:\n",
        "            print(f\"{member.name} ({member.position}):\")\n",
        "            for game_date, score in member.get_performance().items():\n",
        "                print(f\" {game_date}: {score}\")\n",
        "\n",
        "def main():\n",
        "    player1 = TeamMember('John Doe', 'Forward')\n",
        "    player2 = TeamMember('Jane Smith', 'Defender')\n",
        "\n",
        "    player1.add_performance(\"2024-04-13\", 10)\n",
        "    player2.add_performance(\"2024-04-13\", 5)\n",
        "\n",
        "    team = Team(\"Awesome Team\")\n",
        "\n",
        "    team.add_member(player1)\n",
        "    team.add_member(player2)\n",
        "\n",
        "    team.view_team_performance()\n",
        "\n",
        "    team.remove_member(\"John Doe\")\n",
        "\n",
        "    print(\"\\nAfter removing a member:\")\n",
        "    team.view_team_performance()\n",
        "\n",
        "if __name__ == \"__main__\":\n",
        "    main()\n"
      ],
      "metadata": {
        "colab": {
          "base_uri": "https://localhost:8080/"
        },
        "id": "tGsM5iA0bH2i",
        "outputId": "63bf7a8c-52f2-44c3-9a6e-32ceac0d098a"
      },
      "execution_count": 7,
      "outputs": [
        {
          "output_type": "stream",
          "name": "stdout",
          "text": [
            "John Doe (Forward):\n",
            " 2024-04-13: 10\n",
            "Jane Smith (Defender):\n",
            " 2024-04-13: 5\n",
            "\n",
            "After removing a member:\n",
            "Jane Smith (Defender):\n",
            " 2024-04-13: 5\n"
          ]
        }
      ]
    }
  ]
}