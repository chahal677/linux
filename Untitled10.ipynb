{
  "nbformat": 4,
  "nbformat_minor": 0,
  "metadata": {
    "colab": {
      "provenance": [],
      "authorship_tag": "ABX9TyOvmVokysBuFV7x7dg2SuhN",
      "include_colab_link": true
    },
    "kernelspec": {
      "name": "python3",
      "display_name": "Python 3"
    },
    "language_info": {
      "name": "python"
    }
  },
  "cells": [
    {
      "cell_type": "markdown",
      "metadata": {
        "id": "view-in-github",
        "colab_type": "text"
      },
      "source": [
        "<a href=\"https://colab.research.google.com/github/chahal677/linux/blob/main/Untitled10.ipynb\" target=\"_parent\"><img src=\"https://colab.research.google.com/assets/colab-badge.svg\" alt=\"Open In Colab\"/></a>"
      ]
    },
    {
      "cell_type": "code",
      "execution_count": 2,
      "metadata": {
        "colab": {
          "base_uri": "https://localhost:8080/"
        },
        "id": "KAKUfyGaLkZk",
        "outputId": "3b35421a-86e6-4fda-bc4c-3ba4ab799ebd"
      },
      "outputs": [
        {
          "output_type": "stream",
          "name": "stdout",
          "text": [
            "************************\n",
            "** A Simple Math Quiz **\n",
            "************************\n",
            "1. Addition\n",
            "2. Subtraction\n",
            "3. Multiplication\n",
            "4. Integer Division\n",
            "5. Exit\n",
            "Enter your choice: 1\n",
            "Enter your answer\n",
            "13 + 16 =  = 29\n",
            "Correct.\n",
            "Enter your choice: 5\n",
            "Exit the quiz.\n",
            "You answered 1 questions with 1 correct.\n",
            "Your score is 100.0%. Thank you.\n"
          ]
        }
      ],
      "source": [
        "import random\n",
        "\n",
        "def display_intro():\n",
        "    title = \"** A Simple Math Quiz **\"\n",
        "    print(\"*\" * len(title))\n",
        "    print(title)\n",
        "    print(\"*\" * len(title))\n",
        "\n",
        "def display_menu():\n",
        "    menu_list = [\"1. Addition\", \"2. Subtraction\", \"3. Multiplication\", \"4. Integer Division\", \"5. Exit\"]\n",
        "    for option in menu_list:\n",
        "        print(option)\n",
        "\n",
        "def get_user_input():\n",
        "    while True:\n",
        "        try:\n",
        "            user_input = int(input(\"Enter your choice: \"))\n",
        "            if 1 <= user_input <= 5:\n",
        "                return user_input\n",
        "            else:\n",
        "                print(\"Invalid menu option. Please try again.\")\n",
        "        except ValueError:\n",
        "            print(\"Invalid input. Please enter a number.\")\n",
        "\n",
        "def get_user_solution(problem):\n",
        "    print(\"Enter your answer\")\n",
        "    print(problem, end=\"\")\n",
        "    result = int(input(\" = \"))\n",
        "    return result\n",
        "\n",
        "def check_solution(user_solution, solution, count):\n",
        "    if user_solution == solution:\n",
        "        count += 1\n",
        "        print(\"Correct.\")\n",
        "    else:\n",
        "        print(\"Incorrect.\")\n",
        "    return count\n",
        "\n",
        "def menu_option(index, count):\n",
        "    number_one = random.randrange(1, 21)\n",
        "    number_two = random.randrange(1, 21)\n",
        "    if index == 1:\n",
        "        problem = f\"{number_one} + {number_two} = \"\n",
        "        solution = number_one + number_two\n",
        "    elif index == 2:\n",
        "        problem = f\"{number_one} - {number_two} = \"\n",
        "        solution = number_one - number_two\n",
        "    elif index == 3:\n",
        "        problem = f\"{number_one} * {number_two} = \"\n",
        "        solution = number_one * number_two\n",
        "    else:\n",
        "        problem = f\"{number_one} // {number_two} = \"\n",
        "        solution = number_one // number_two\n",
        "    user_solution = get_user_solution(problem)\n",
        "    return check_solution(user_solution, solution, count)\n",
        "\n",
        "def display_result(total, correct):\n",
        "    if total > 0:\n",
        "        percentage = round((correct / total) * 100, 2)\n",
        "    else:\n",
        "        percentage = 0\n",
        "    print(f\"You answered {total} questions with {correct} correct.\")\n",
        "    print(f\"Your score is {percentage}%. Thank you.\")\n",
        "\n",
        "def main():\n",
        "    display_intro()\n",
        "    display_menu()\n",
        "\n",
        "    option = get_user_input()\n",
        "    total = 0\n",
        "    correct = 0\n",
        "    while option != 5:\n",
        "        total += 1\n",
        "        correct = menu_option(option, correct)\n",
        "        option = get_user_input()\n",
        "\n",
        "    print(\"Exit the quiz.\")\n",
        "    display_result(total, correct)\n",
        "\n",
        "if __name__ == \"__main__\":\n",
        "    main()"
      ]
    }
  ]
}