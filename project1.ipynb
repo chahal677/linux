{
  "nbformat": 4,
  "nbformat_minor": 0,
  "metadata": {
    "colab": {
      "provenance": [],
      "authorship_tag": "ABX9TyOFnm0II0ZLDaPckZYnJD4M",
      "include_colab_link": true
    },
    "kernelspec": {
      "name": "python3",
      "display_name": "Python 3"
    },
    "language_info": {
      "name": "python"
    }
  },
  "cells": [
    {
      "cell_type": "markdown",
      "metadata": {
        "id": "view-in-github",
        "colab_type": "text"
      },
      "source": [
        "<a href=\"https://colab.research.google.com/github/chahal677/linux/blob/main/project1.ipynb\" target=\"_parent\"><img src=\"https://colab.research.google.com/assets/colab-badge.svg\" alt=\"Open In Colab\"/></a>"
      ]
    },
    {
      "cell_type": "code",
      "source": [
        "import random\n",
        "\n",
        "def display_intro():\n",
        "    title = \"** A Simple Math Quiz **\"\n",
        "    print(\"*\" * 24)\n",
        "    print(title)\n",
        "    print(\"*\" * 24)\n",
        "\n",
        "def display_menu():\n",
        "    menu_list = [\"1. Addition\", \"2. Subtraction\", \"3. Multiplication\", \"4. Integer Division\", \"5. Exit\"]\n",
        "    for i in menu_list:\n",
        "      print(i)\n",
        "\n",
        "def get_user_input():\n",
        "    while True:\n",
        "        user_input = input(\"Enter your choice: \")\n",
        "        if user_input.isdigit() and 1 <= int(user_input) <= 5:\n",
        "            return int(user_input)\n",
        "        else:\n",
        "            print(\"Invalid menu option. Please try again.\")\n",
        "\n",
        "def generate_problem_and_solution(index):\n",
        "    number_one = random.randint(1, 20)\n",
        "    number_two = random.randint(1, 20)\n",
        "    if index == 1:\n",
        "        problem = f\"{number_one} + {number_two}\"\n",
        "        solution = number_one + number_two\n",
        "    elif index == 2:\n",
        "        problem = f\"{number_one} - {number_two}\"\n",
        "        solution = number_one - number_two\n",
        "    elif index == 3:\n",
        "        problem = f\"{number_one} * {number_two}\"\n",
        "        solution = number_one * number_two\n",
        "    else:\n",
        "        problem = f\"{number_one} // {number_two}\"\n",
        "        solution = number_one // number_two\n",
        "    return problem, solution\n",
        "\n",
        "def get_user_solution(problem):\n",
        "    print(\"Solve the problem:\")\n",
        "    print(problem, end=\" = \")\n",
        "    return int(input())\n",
        "\n",
        "def check_solution(user_solution, solution, count):\n",
        "    if user_solution == solution:\n",
        "        count += 1\n",
        "        print(\"Correct!\")\n",
        "    else:\n",
        "        print(\"Incorrect!\")\n",
        "    return count\n",
        "\n",
        "def main():\n",
        "    display_intro()\n",
        "    while True:\n",
        "        display_menu()\n",
        "        option = get_user_input()\n",
        "        if option == 5:\n",
        "            print(\"Exiting the quiz. Goodbye!\")\n",
        "            break\n",
        "\n",
        "        total_questions = 0\n",
        "        correct_answers = 0\n",
        "        while True:\n",
        "            total_questions += 1\n",
        "            problem, solution = generate_problem_and_solution(option)\n",
        "            user_solution = get_user_solution(problem)\n",
        "            correct_answers = check_solution(user_solution, solution, correct_answers)\n",
        "            another_try = input(\"Do you want to try another problem? (yes/no): \").lower()\n",
        "            if another_try != 'yes':\n",
        "                break\n",
        "\n",
        "        print(f\"\\nTotal questions answered: {total_questions}\")\n",
        "        print(f\"Correct answers: {correct_answers}\")\n",
        "        if total_questions > 0:\n",
        "            percentage = round((correct_answers / total_questions) * 100, 2)\n",
        "            print(f\"Your score: {percentage}%\")\n",
        "        else:\n",
        "            print(\"Your score: 0%\")\n",
        "\n",
        "if __name__ == \"__main__\":\n",
        "    main()\n"
      ],
      "metadata": {
        "colab": {
          "base_uri": "https://localhost:8080/"
        },
        "id": "_F9Ar02eQPya",
        "outputId": "9395ec3c-ccf3-4cb4-b17e-1523575ea342"
      },
      "execution_count": 7,
      "outputs": [
        {
          "output_type": "stream",
          "name": "stdout",
          "text": [
            "************************\n",
            "** A Simple Math Quiz **\n",
            "************************\n",
            "1. Addition\n",
            "2. Subtraction\n",
            "3. Multiplication\n",
            "4. Integer Division\n",
            "5. Exit\n",
            "Enter your choice: 1\n",
            "Solve the problem:\n",
            "10 + 11 = 21\n",
            "Correct!\n",
            "Do you want to try another problem? (yes/no): yes\n",
            "Solve the problem:\n",
            "3 + 1 = 4\n",
            "Correct!\n",
            "Do you want to try another problem? (yes/no): f\n",
            "\n",
            "Total questions answered: 2\n",
            "Correct answers: 2\n",
            "Your score: 100.0%\n",
            "1. Addition\n",
            "2. Subtraction\n",
            "3. Multiplication\n",
            "4. Integer Division\n",
            "5. Exit\n",
            "Enter your choice: 5\n",
            "Exiting the quiz. Goodbye!\n"
          ]
        }
      ]
    }
  ]
}